{
  "cells": [
    {
      "cell_type": "markdown",
      "metadata": {
        "id": "GJ7Iuah96lAS"
      },
      "source": [
        "#Google drive annexation"
      ]
    },
    {
      "cell_type": "code",
      "execution_count": null,
      "metadata": {
        "colab": {
          "base_uri": "https://localhost:8080/"
        },
        "id": "5ALY-UVLPJBu",
        "outputId": "bb789abc-1a92-4c77-9f29-87868e3fab66"
      },
      "outputs": [
        {
          "name": "stdout",
          "output_type": "stream",
          "text": [
            "Mounted at /content/drive\n"
          ]
        }
      ],
      "source": [
        "from google.colab import drive\n",
        "drive.mount('/content/drive')"
      ]
    },
    {
      "cell_type": "markdown",
      "metadata": {
        "id": "tapEQ_YgRgDA"
      },
      "source": [
        "#Libraries"
      ]
    },
    {
      "cell_type": "code",
      "execution_count": null,
      "metadata": {
        "id": "-GrxAHU0O-12"
      },
      "outputs": [],
      "source": [
        "import librosa\n",
        "import numpy as np\n",
        "from sklearn.svm import SVC\n",
        "from sklearn.metrics import accuracy_score, confusion_matrix\n",
        "import pandas as pd\n",
        "from sklearn.model_selection import train_test_split\n",
        "import matplotlib.pyplot as plt\n",
        "from sklearn.utils import resample\n",
        "import os"
      ]
    },
    {
      "cell_type": "markdown",
      "metadata": {
        "id": "fVNxZMqTRnJ2"
      },
      "source": [
        "#Load audio and labels"
      ]
    },
    {
      "cell_type": "code",
      "execution_count": null,
      "metadata": {
        "id": "t6pTJqylO-14"
      },
      "outputs": [],
      "source": [
        "#Load the audio file\n",
        "# audio_path = \"/content/drive/MyDrive/thesis/clips_lakers.wav\"\n",
        "audio_path = os.path.join(os.path.dirname(__file__), 'clips_lakers.wav')\n",
        "audio, sr = librosa.load(audio_path, sr=None)"
      ]
    },
    {
      "cell_type": "code",
      "execution_count": null,
      "metadata": {
        "id": "0Cy7BVSXO-14"
      },
      "outputs": [],
      "source": [
        "#Load labels from the CSV file\n",
        "labels_path = os.path.join(os.path.dirname(__file__), 'test_cheering.csv')\n",
        "labels_df = pd.read_csv(labels_path)\n",
        "labels_df = labels_df.drop(['VALUE'], axis=1)\n",
        "\n",
        "#hold rows corresponding to cheering events\n",
        "\n",
        "cheering_labels_df = labels_df.loc[labels_df['LABEL'] == 'cheering']\n"
      ]
    },
    {
      "cell_type": "markdown",
      "metadata": {
        "id": "50rbNhc6Rum7"
      },
      "source": [
        "#MFCC computation and labelling"
      ]
    },
    {
      "cell_type": "code",
      "execution_count": null,
      "metadata": {
        "id": "OtjBONmqO-14"
      },
      "outputs": [],
      "source": [
        "#Compute the MFCCs of the audio\n",
        "n_fft = 2048\n",
        "hop_length = 512\n",
        "\n",
        "mfccs = librosa.feature.mfcc(y=audio, sr=sr, n_fft=n_fft, hop_length=hop_length, n_mfcc=13)"
      ]
    },
    {
      "cell_type": "code",
      "execution_count": null,
      "metadata": {
        "id": "p6drB5cwO-15"
      },
      "outputs": [],
      "source": [
        "# Label MFCCs based on the corresponding CSV labels\n",
        "\n",
        "\n",
        "positive_labeled_mfccs_list = []\n",
        "mfccs_labels = np.zeros(mfccs.shape[1])\n",
        "\n",
        "for i, row in cheering_labels_df.iterrows():\n",
        "    start_time = row[\"TIME\"]\n",
        "    end_time = start_time + row[\"DURATION\"]\n",
        "    label = row[\"LABEL\"]\n",
        "\n",
        "    # Convert the start and end times from seconds to samples\n",
        "    start_sample = int(start_time * sr/hop_length)\n",
        "    end_sample = int(end_time * sr/hop_length)\n",
        "\n",
        "    \n",
        "     # Extract the MFCCs for the labeled segment of the audio\n",
        "    positive_labeled_mfccs = mfccs[:, start_sample:end_sample]\n",
        "    mfccs_labels[start_sample:end_sample] = 1\n",
        "    \n",
        "    # Append the labeled MFCCs to the list\n",
        "    positive_labeled_mfccs_list.append(positive_labeled_mfccs)\n",
        "\n",
        "   \n",
        "# Concatenate the list of labeled MFCCs into a single array\n",
        "positive_labeled_mfccs = np.concatenate(positive_labeled_mfccs_list, axis=1)"
      ]
    },
    {
      "cell_type": "markdown",
      "metadata": {
        "id": "W28IGN57R2DO"
      },
      "source": [
        "#SVM training"
      ]
    },
    {
      "cell_type": "code",
      "execution_count": null,
      "metadata": {
        "id": "F8eXL16oO-16"
      },
      "outputs": [],
      "source": [
        "mfccs_trans = mfccs.T\n",
        "\n",
        "# Split the data into training and testing sets\n",
        "X_train, X_test, y_train, y_test = train_test_split(mfccs_trans, mfccs_labels, test_size=0.2)\n",
        "\n",
        "# Downsample the \"0\" labeled MFCCs\n",
        "X_train_0 = X_train[y_train == 0]\n",
        "X_train_1 = X_train[y_train == 1]\n",
        "X_train_0_downsampled = resample(X_train_0, replace=False, n_samples=X_train_1.shape[0], random_state=123)\n",
        "X_train_downsampled = np.vstack((X_train_0_downsampled, X_train_1))\n",
        "y_train_downsampled = np.hstack((np.zeros(X_train_0_downsampled.shape[0]), np.ones(X_train_1.shape[0])))\n",
        "\n",
        "\n",
        "X_test_0 = X_test[y_test == 0]\n",
        "X_test_1 = X_test[y_test == 1]\n",
        "X_test_0_downsampled = resample(X_test_0, replace=False, n_samples=X_test_1.shape[0], random_state=123)\n",
        "X_test_downsampled = np.vstack((X_test_0_downsampled, X_test_1))\n",
        "y_test_downsampled = np.hstack((np.zeros(X_test_0_downsampled.shape[0]), np.ones(X_test_1.shape[0])))"
      ]
    },
    {
      "cell_type": "code",
      "execution_count": null,
      "metadata": {
        "colab": {
          "base_uri": "https://localhost:8080/",
          "height": 74
        },
        "id": "giKcDUOMO-16",
        "outputId": "d7e1d809-11f8-461b-f384-4db217c3441e"
      },
      "outputs": [
        {
          "data": {
            "text/html": [
              "<style>#sk-container-id-3 {color: black;background-color: white;}#sk-container-id-3 pre{padding: 0;}#sk-container-id-3 div.sk-toggleable {background-color: white;}#sk-container-id-3 label.sk-toggleable__label {cursor: pointer;display: block;width: 100%;margin-bottom: 0;padding: 0.3em;box-sizing: border-box;text-align: center;}#sk-container-id-3 label.sk-toggleable__label-arrow:before {content: \"▸\";float: left;margin-right: 0.25em;color: #696969;}#sk-container-id-3 label.sk-toggleable__label-arrow:hover:before {color: black;}#sk-container-id-3 div.sk-estimator:hover label.sk-toggleable__label-arrow:before {color: black;}#sk-container-id-3 div.sk-toggleable__content {max-height: 0;max-width: 0;overflow: hidden;text-align: left;background-color: #f0f8ff;}#sk-container-id-3 div.sk-toggleable__content pre {margin: 0.2em;color: black;border-radius: 0.25em;background-color: #f0f8ff;}#sk-container-id-3 input.sk-toggleable__control:checked~div.sk-toggleable__content {max-height: 200px;max-width: 100%;overflow: auto;}#sk-container-id-3 input.sk-toggleable__control:checked~label.sk-toggleable__label-arrow:before {content: \"▾\";}#sk-container-id-3 div.sk-estimator input.sk-toggleable__control:checked~label.sk-toggleable__label {background-color: #d4ebff;}#sk-container-id-3 div.sk-label input.sk-toggleable__control:checked~label.sk-toggleable__label {background-color: #d4ebff;}#sk-container-id-3 input.sk-hidden--visually {border: 0;clip: rect(1px 1px 1px 1px);clip: rect(1px, 1px, 1px, 1px);height: 1px;margin: -1px;overflow: hidden;padding: 0;position: absolute;width: 1px;}#sk-container-id-3 div.sk-estimator {font-family: monospace;background-color: #f0f8ff;border: 1px dotted black;border-radius: 0.25em;box-sizing: border-box;margin-bottom: 0.5em;}#sk-container-id-3 div.sk-estimator:hover {background-color: #d4ebff;}#sk-container-id-3 div.sk-parallel-item::after {content: \"\";width: 100%;border-bottom: 1px solid gray;flex-grow: 1;}#sk-container-id-3 div.sk-label:hover label.sk-toggleable__label {background-color: #d4ebff;}#sk-container-id-3 div.sk-serial::before {content: \"\";position: absolute;border-left: 1px solid gray;box-sizing: border-box;top: 0;bottom: 0;left: 50%;z-index: 0;}#sk-container-id-3 div.sk-serial {display: flex;flex-direction: column;align-items: center;background-color: white;padding-right: 0.2em;padding-left: 0.2em;position: relative;}#sk-container-id-3 div.sk-item {position: relative;z-index: 1;}#sk-container-id-3 div.sk-parallel {display: flex;align-items: stretch;justify-content: center;background-color: white;position: relative;}#sk-container-id-3 div.sk-item::before, #sk-container-id-3 div.sk-parallel-item::before {content: \"\";position: absolute;border-left: 1px solid gray;box-sizing: border-box;top: 0;bottom: 0;left: 50%;z-index: -1;}#sk-container-id-3 div.sk-parallel-item {display: flex;flex-direction: column;z-index: 1;position: relative;background-color: white;}#sk-container-id-3 div.sk-parallel-item:first-child::after {align-self: flex-end;width: 50%;}#sk-container-id-3 div.sk-parallel-item:last-child::after {align-self: flex-start;width: 50%;}#sk-container-id-3 div.sk-parallel-item:only-child::after {width: 0;}#sk-container-id-3 div.sk-dashed-wrapped {border: 1px dashed gray;margin: 0 0.4em 0.5em 0.4em;box-sizing: border-box;padding-bottom: 0.4em;background-color: white;}#sk-container-id-3 div.sk-label label {font-family: monospace;font-weight: bold;display: inline-block;line-height: 1.2em;}#sk-container-id-3 div.sk-label-container {text-align: center;}#sk-container-id-3 div.sk-container {/* jupyter's `normalize.less` sets `[hidden] { display: none; }` but bootstrap.min.css set `[hidden] { display: none !important; }` so we also need the `!important` here to be able to override the default hidden behavior on the sphinx rendered scikit-learn.org. See: https://github.com/scikit-learn/scikit-learn/issues/21755 */display: inline-block !important;position: relative;}#sk-container-id-3 div.sk-text-repr-fallback {display: none;}</style><div id=\"sk-container-id-3\" class=\"sk-top-container\"><div class=\"sk-text-repr-fallback\"><pre>SVC()</pre><b>In a Jupyter environment, please rerun this cell to show the HTML representation or trust the notebook. <br />On GitHub, the HTML representation is unable to render, please try loading this page with nbviewer.org.</b></div><div class=\"sk-container\" hidden><div class=\"sk-item\"><div class=\"sk-estimator sk-toggleable\"><input class=\"sk-toggleable__control sk-hidden--visually\" id=\"sk-estimator-id-3\" type=\"checkbox\" checked><label for=\"sk-estimator-id-3\" class=\"sk-toggleable__label sk-toggleable__label-arrow\">SVC</label><div class=\"sk-toggleable__content\"><pre>SVC()</pre></div></div></div></div></div>"
            ],
            "text/plain": [
              "SVC()"
            ]
          },
          "execution_count": 47,
          "metadata": {},
          "output_type": "execute_result"
        }
      ],
      "source": [
        "# Train the SVM on the balanced dataset\n",
        "svm = SVC(kernel='rbf')\n",
        "svm.fit(X_train_downsampled, y_train_downsampled)"
      ]
    },
    {
      "cell_type": "markdown",
      "metadata": {
        "id": "SuYUkn0BR_s5"
      },
      "source": [
        "#Predictions"
      ]
    },
    {
      "cell_type": "markdown",
      "metadata": {
        "id": "yUyYpsGnSC31"
      },
      "source": [
        "##Downsampled test set"
      ]
    },
    {
      "cell_type": "code",
      "execution_count": null,
      "metadata": {
        "colab": {
          "base_uri": "https://localhost:8080/",
          "height": 717
        },
        "id": "zVGTpDoTO-18",
        "outputId": "e2b33ec5-cb0e-4ddc-db5e-5fbea0cb426a"
      },
      "outputs": [
        {
          "name": "stdout",
          "output_type": "stream",
          "text": [
            "Accuracy : 0.898011704152859, Precision: 0.8726564562978611, Recall : 0.9320313050835507\n"
          ]
        },
        {
          "data": {
            "image/png": "[encoded data removed]",
            "text/plain": [
              "<Figure size 750x750 with 1 Axes>"
            ]
          },
          "metadata": {},
          "output_type": "display_data"
        }
      ],
      "source": [
        "#test on downsampled test set\n",
        "y_pred = svm.predict(X_test_downsampled)\n",
        "\n",
        "tn, fp, fn, tp = confusion_matrix(y_test_downsampled, y_pred).ravel()\n",
        "\n",
        "precision_score = tp/(tp+fp)\n",
        "recall_score = tp/(tp+fn)\n",
        "accuracy = accuracy_score(y_test_downsampled, y_pred)\n",
        "\n",
        "print(f\"Accuracy : {accuracy}, Precision: {precision_score}, Recall : {recall_score}\")\n",
        "\n",
        "conf_matrix = confusion_matrix(y_test_downsampled, y_pred)\n",
        "\n",
        "fig, ax = plt.subplots(figsize=(7.5, 7.5))\n",
        "ax.matshow(conf_matrix, cmap=plt.cm.Blues, alpha=0.3)\n",
        "for i in range(conf_matrix.shape[0]):\n",
        "    for j in range(conf_matrix.shape[1]):\n",
        "        ax.text(x=j, y=i,s=conf_matrix[i, j], va='center', ha='center', size='xx-large')\n",
        " \n",
        "plt.xlabel('Predictions', fontsize=18)\n",
        "plt.ylabel('Actuals', fontsize=18)\n",
        "plt.title('Confusion Matrix', fontsize=18)\n",
        "plt.show()"
      ]
    },
    {
      "cell_type": "markdown",
      "metadata": {
        "id": "G4R65NDmSNUI"
      },
      "source": [
        "##Whole test set"
      ]
    },
    {
      "cell_type": "code",
      "execution_count": null,
      "metadata": {
        "colab": {
          "base_uri": "https://localhost:8080/",
          "height": 717
        },
        "id": "EODvsASQRD8y",
        "outputId": "c2771148-6c80-4f29-b04e-e63253e66b4f"
      },
      "outputs": [
        {
          "name": "stdout",
          "output_type": "stream",
          "text": [
            "Accuracy : 0.873943861379808, Precision: 0.33166900843034924, Recall : 0.9320313050835507\n"
          ]
        },
        {
          "data": {
            "image/png": "[encoded data removed]",
            "text/plain": [
              "<Figure size 750x750 with 1 Axes>"
            ]
          },
          "metadata": {},
          "output_type": "display_data"
        }
      ],
      "source": [
        "predicted_y = svm.predict(X_test)\n",
        "\n",
        "tn, fp, fn, tp = confusion_matrix(y_test, predicted_y).ravel()\n",
        "\n",
        "precision_score = tp/(tp+fp)\n",
        "recall_score = tp/(tp+fn)\n",
        "accuracy = accuracy_score(y_test, predicted_y)\n",
        "\n",
        "print(f\"Accuracy : {accuracy}, Precision: {precision_score}, Recall : {recall_score}\")\n",
        "\n",
        "conf_matrix = confusion_matrix(y_test, predicted_y)\n",
        "\n",
        "fig, ax = plt.subplots(figsize=(7.5, 7.5))\n",
        "ax.matshow(conf_matrix, cmap=plt.cm.Blues, alpha=0.3)\n",
        "for i in range(conf_matrix.shape[0]):\n",
        "    for j in range(conf_matrix.shape[1]):\n",
        "        ax.text(x=j, y=i,s=conf_matrix[i, j], va='center', ha='center', size='xx-large')\n",
        " \n",
        "plt.xlabel('Predictions', fontsize=18)\n",
        "plt.ylabel('Actuals', fontsize=18)\n",
        "plt.title('Confusion Matrix', fontsize=18)\n",
        "plt.show()"
      ]
    },
    {
      "cell_type": "markdown",
      "metadata": {
        "id": "DCo9PomCDuZR"
      },
      "source": [
        "##GridSearch for optimal hyperparameters of SVM"
      ]
    },
    {
      "cell_type": "code",
      "execution_count": null,
      "metadata": {
        "id": "4TMh8umsO-18"
      },
      "outputs": [],
      "source": [
        "from sklearn.model_selection import GridSearchCV\n",
        "\n",
        "# Define the SVM model with an RBF kernel\n",
        "svm = SVC(kernel='rbf')\n",
        "\n",
        "# Set up the parameter grid for hyperparameter tuning\n",
        "param_grid = {'C': [0.01, 0.1, 1],\n",
        "              'gamma': [0.1, 1, 10]}\n",
        "            #   'class_weight': [{0: 1, 1: 5}, {0: 1, 1: 10}, {0: 1, 1: 50}]}\n",
        "\n",
        "# Use grid search to find the best hyperparameters\n",
        "grid_search = GridSearchCV(svm, param_grid, n_jobs=-1)\n",
        "grid_search.fit(X_train, y_train)\n",
        "\n",
        "# Print the best hyperparameters\n",
        "print(\"Best hyperparameters: \", grid_search.best_params_)\n",
        "\n",
        "# Train the SVM with the best hyperparameters\n",
        "svm_best = SVC(kernel='rbf', C=grid_search.best_params_['C'], gamma=grid_search.best_params_['gamma'])\n",
        "svm_best.fit(X_train, y_train)\n",
        "\n",
        "# Test the SVM\n",
        "y_pred = svm_best.predict(X_test)\n",
        "accuracy = accuracy_score(y_test, y_pred)"
      ]
    },
    {
      "cell_type": "markdown",
      "metadata": {
        "id": "PbDt0JJn55hq"
      },
      "source": [
        "#Train SVM_2 using mfcc&derivatives"
      ]
    },
    {
      "cell_type": "markdown",
      "metadata": {
        "id": "NzgGcJLA-nmX"
      },
      "source": [
        "##delta and delta_2 computation and labelling"
      ]
    },
    {
      "cell_type": "code",
      "execution_count": null,
      "metadata": {
        "colab": {
          "base_uri": "https://localhost:8080/"
        },
        "id": "pvscxXnk6Bs2",
        "outputId": "ef5e628f-5cb0-445d-d5b7-fe43a994c310"
      },
      "outputs": [
        {
          "data": {
            "text/plain": [
              "(1642182,)"
            ]
          },
          "execution_count": 31,
          "metadata": {},
          "output_type": "execute_result"
        }
      ],
      "source": [
        "# Compute first and second derivatives of MFCCs coefficients\n",
        "delta_mfccs = librosa.feature.delta(mfccs)\n",
        "delta2_mfccs = librosa.feature.delta(mfccs, order=2)\n",
        "\n",
        "# Concatenate MFCCs and its derivatives into a feature vector\n",
        "features = np.hstack((mfccs, delta_mfccs, delta2_mfccs))\n",
        "\n",
        "# Label delta, delta_2 based on the corresponding CSV labels\n",
        "\n",
        "\n",
        "delta_mfccs_labels = np.zeros(delta_mfccs.shape[1])\n",
        "delta2_mfccs_labels = np.zeros(delta2_mfccs.shape[1])\n",
        "\n",
        "for i, row in cheering_labels_df.iterrows():\n",
        "    start_time = row[\"TIME\"]\n",
        "    end_time = start_time + row[\"DURATION\"]\n",
        "    label = row[\"LABEL\"]\n",
        "\n",
        "    # Convert the start and end times from seconds to samples\n",
        "    start_sample = int(start_time * sr/hop_length)\n",
        "    end_sample = int(end_time * sr/hop_length)\n",
        "\n",
        "    \n",
        "     # Extract the delta, delta_2 mfccs for the labeled segment of the audio\n",
        "    delta_mfccs_labels[start_sample:end_sample] = 1\n",
        "    delta2_mfccs_labels[start_sample:end_sample] = 1\n",
        "\n",
        "features_labels = np.concatenate((mfccs_labels, delta_mfccs_labels, delta2_mfccs_labels), axis=0)\n",
        "\n",
        "features_labels.shape\n",
        "\n",
        "\n"
      ]
    },
    {
      "cell_type": "markdown",
      "metadata": {
        "id": "rPJ9-6_--uWy"
      },
      "source": [
        "##Train-test split and training"
      ]
    },
    {
      "cell_type": "code",
      "execution_count": null,
      "metadata": {
        "id": "AryXa3xd8Jtx"
      },
      "outputs": [],
      "source": [
        "\n",
        "\n",
        "features_trans = features.T #Invert dimensions for SVM\n",
        "\n",
        "# Split the data into training and testing sets\n",
        "X_train_2, X_test_2, y_train_2, y_test_2 = train_test_split(features_trans, features_labels, test_size=0.2)\n",
        "\n",
        "# Downsample the \"0\" labeled MFCCs\n",
        "X_train_0_2 = X_train_2[y_train_2 == 0]\n",
        "X_train_1_2 = X_train_2[y_train_2 == 1]\n",
        "X_train_0_downsampled_2 = resample(X_train_0_2, replace=False, n_samples=X_train_1_2.shape[0], random_state=123)\n",
        "X_train_downsampled_2 = np.vstack((X_train_0_downsampled_2, X_train_1_2))\n",
        "y_train_downsampled_2 = np.hstack((np.zeros(X_train_0_downsampled_2.shape[0]), np.ones(X_train_1_2.shape[0])))\n",
        "\n",
        "\n",
        "X_test_0_2 = X_test_2[y_test_2 == 0]\n",
        "X_test_1_2 = X_test_2[y_test_2 == 1]\n",
        "X_test_0_downsampled_2 = resample(X_test_0_2, replace=False, n_samples=X_test_1_2.shape[0], random_state=123)\n",
        "X_test_downsampled_2 = np.vstack((X_test_0_downsampled_2, X_test_1_2))\n",
        "y_test_downsampled_2 = np.hstack((np.zeros(X_test_0_downsampled_2.shape[0]), np.ones(X_test_1_2.shape[0])))"
      ]
    },
    {
      "cell_type": "code",
      "execution_count": null,
      "metadata": {
        "colab": {
          "base_uri": "https://localhost:8080/",
          "height": 74
        },
        "id": "bPLwHDLJ-0WN",
        "outputId": "f8a5863c-ad70-4f8f-e643-4e24f1e7e358"
      },
      "outputs": [
        {
          "data": {
            "text/html": [
              "<style>#sk-container-id-2 {color: black;background-color: white;}#sk-container-id-2 pre{padding: 0;}#sk-container-id-2 div.sk-toggleable {background-color: white;}#sk-container-id-2 label.sk-toggleable__label {cursor: pointer;display: block;width: 100%;margin-bottom: 0;padding: 0.3em;box-sizing: border-box;text-align: center;}#sk-container-id-2 label.sk-toggleable__label-arrow:before {content: \"▸\";float: left;margin-right: 0.25em;color: #696969;}#sk-container-id-2 label.sk-toggleable__label-arrow:hover:before {color: black;}#sk-container-id-2 div.sk-estimator:hover label.sk-toggleable__label-arrow:before {color: black;}#sk-container-id-2 div.sk-toggleable__content {max-height: 0;max-width: 0;overflow: hidden;text-align: left;background-color: #f0f8ff;}#sk-container-id-2 div.sk-toggleable__content pre {margin: 0.2em;color: black;border-radius: 0.25em;background-color: #f0f8ff;}#sk-container-id-2 input.sk-toggleable__control:checked~div.sk-toggleable__content {max-height: 200px;max-width: 100%;overflow: auto;}#sk-container-id-2 input.sk-toggleable__control:checked~label.sk-toggleable__label-arrow:before {content: \"▾\";}#sk-container-id-2 div.sk-estimator input.sk-toggleable__control:checked~label.sk-toggleable__label {background-color: #d4ebff;}#sk-container-id-2 div.sk-label input.sk-toggleable__control:checked~label.sk-toggleable__label {background-color: #d4ebff;}#sk-container-id-2 input.sk-hidden--visually {border: 0;clip: rect(1px 1px 1px 1px);clip: rect(1px, 1px, 1px, 1px);height: 1px;margin: -1px;overflow: hidden;padding: 0;position: absolute;width: 1px;}#sk-container-id-2 div.sk-estimator {font-family: monospace;background-color: #f0f8ff;border: 1px dotted black;border-radius: 0.25em;box-sizing: border-box;margin-bottom: 0.5em;}#sk-container-id-2 div.sk-estimator:hover {background-color: #d4ebff;}#sk-container-id-2 div.sk-parallel-item::after {content: \"\";width: 100%;border-bottom: 1px solid gray;flex-grow: 1;}#sk-container-id-2 div.sk-label:hover label.sk-toggleable__label {background-color: #d4ebff;}#sk-container-id-2 div.sk-serial::before {content: \"\";position: absolute;border-left: 1px solid gray;box-sizing: border-box;top: 0;bottom: 0;left: 50%;z-index: 0;}#sk-container-id-2 div.sk-serial {display: flex;flex-direction: column;align-items: center;background-color: white;padding-right: 0.2em;padding-left: 0.2em;position: relative;}#sk-container-id-2 div.sk-item {position: relative;z-index: 1;}#sk-container-id-2 div.sk-parallel {display: flex;align-items: stretch;justify-content: center;background-color: white;position: relative;}#sk-container-id-2 div.sk-item::before, #sk-container-id-2 div.sk-parallel-item::before {content: \"\";position: absolute;border-left: 1px solid gray;box-sizing: border-box;top: 0;bottom: 0;left: 50%;z-index: -1;}#sk-container-id-2 div.sk-parallel-item {display: flex;flex-direction: column;z-index: 1;position: relative;background-color: white;}#sk-container-id-2 div.sk-parallel-item:first-child::after {align-self: flex-end;width: 50%;}#sk-container-id-2 div.sk-parallel-item:last-child::after {align-self: flex-start;width: 50%;}#sk-container-id-2 div.sk-parallel-item:only-child::after {width: 0;}#sk-container-id-2 div.sk-dashed-wrapped {border: 1px dashed gray;margin: 0 0.4em 0.5em 0.4em;box-sizing: border-box;padding-bottom: 0.4em;background-color: white;}#sk-container-id-2 div.sk-label label {font-family: monospace;font-weight: bold;display: inline-block;line-height: 1.2em;}#sk-container-id-2 div.sk-label-container {text-align: center;}#sk-container-id-2 div.sk-container {/* jupyter's `normalize.less` sets `[hidden] { display: none; }` but bootstrap.min.css set `[hidden] { display: none !important; }` so we also need the `!important` here to be able to override the default hidden behavior on the sphinx rendered scikit-learn.org. See: https://github.com/scikit-learn/scikit-learn/issues/21755 */display: inline-block !important;position: relative;}#sk-container-id-2 div.sk-text-repr-fallback {display: none;}</style><div id=\"sk-container-id-2\" class=\"sk-top-container\"><div class=\"sk-text-repr-fallback\"><pre>SVC()</pre><b>In a Jupyter environment, please rerun this cell to show the HTML representation or trust the notebook. <br />On GitHub, the HTML representation is unable to render, please try loading this page with nbviewer.org.</b></div><div class=\"sk-container\" hidden><div class=\"sk-item\"><div class=\"sk-estimator sk-toggleable\"><input class=\"sk-toggleable__control sk-hidden--visually\" id=\"sk-estimator-id-2\" type=\"checkbox\" checked><label for=\"sk-estimator-id-2\" class=\"sk-toggleable__label sk-toggleable__label-arrow\">SVC</label><div class=\"sk-toggleable__content\"><pre>SVC()</pre></div></div></div></div></div>"
            ],
            "text/plain": [
              "SVC()"
            ]
          },
          "execution_count": 34,
          "metadata": {},
          "output_type": "execute_result"
        }
      ],
      "source": [
        "# Train the SVM on the balanced dataset\n",
        "svm = SVC(kernel='rbf')\n",
        "svm.fit(X_train_downsampled, y_train_downsampled)"
      ]
    },
    {
      "cell_type": "markdown",
      "metadata": {
        "id": "-zTRu8pd_-Ki"
      },
      "source": [
        "##Predictions"
      ]
    },
    {
      "cell_type": "markdown",
      "metadata": {
        "id": "JWNo0FB7AAQH"
      },
      "source": [
        "###Downsampled Test set"
      ]
    },
    {
      "cell_type": "code",
      "execution_count": null,
      "metadata": {
        "colab": {
          "base_uri": "https://localhost:8080/",
          "height": 717
        },
        "id": "o4MEcKMn_7eq",
        "outputId": "8786e0bf-f4ee-4a10-fcb6-ef94580ddb55"
      },
      "outputs": [
        {
          "name": "stdout",
          "output_type": "stream",
          "text": [
            "0.8798025613660619 0.3101048572906381\n"
          ]
        },
        {
          "data": {
            "image/png": "[encoded data removed]",
            "text/plain": [
              "<Figure size 750x750 with 1 Axes>"
            ]
          },
          "metadata": {},
          "output_type": "display_data"
        }
      ],
      "source": [
        "#test on downsampled test set\n",
        "y_pred_2 = svm.predict(X_test_downsampled_2)\n",
        "\n",
        "tn_2, fp_2, fn_2, tp_2 = confusion_matrix(y_test_downsampled_2, y_pred_2).ravel()\n",
        "\n",
        "precision_score_2 = tp_2/(tp_2+fp_2)\n",
        "recall_score_2 = tp_2/(tp_2+fn_2)\n",
        "\n",
        "print(precision_score_2, recall_score_2)\n",
        "\n",
        "conf_matrix_2= confusion_matrix(y_test_downsampled_2, y_pred_2)\n",
        "\n",
        "fig, ax = plt.subplots(figsize=(7.5, 7.5))\n",
        "ax.matshow(conf_matrix_2, cmap=plt.cm.Blues, alpha=0.3)\n",
        "for i in range(conf_matrix_2.shape[0]):\n",
        "    for j in range(conf_matrix_2.shape[1]):\n",
        "        ax.text(x=j, y=i,s=conf_matrix_2[i, j], va='center', ha='center', size='xx-large')\n",
        " \n",
        "plt.xlabel('Predictions', fontsize=18)\n",
        "plt.ylabel('Actuals', fontsize=18)\n",
        "plt.title('Confusion Matrix', fontsize=18)\n",
        "plt.show()"
      ]
    },
    {
      "attachments": {},
      "cell_type": "markdown",
      "metadata": {
        "id": "L1Bd5CDgO-18"
      },
      "source": [
        "# Cheering :\n",
        "\n",
        " **-MFCCs** : \n",
        "  \n",
        " 1. *Downsampled_test_set : accuracy = 0.9, precision = 0.87, recall = 0.93* \n",
        "         \n",
        " 2. *Whole test set : accuracy = 0.88, precision = 0.33,   recall = 0.93*\n",
        "\n",
        "\n",
        "+ Καλό : υψηλό recall - αναγνωρίζει τους ήχους που είναι labelled ως cheering\n",
        "\n",
        "+ Κακό: χαμηλό precision-αναγνωρίζει και άλλους ήχους ως cheering(αίτια : boos,θόρυβος)\n",
        "\n",
        "**MFCCs,derivatives** : \n",
        "\n",
        " 1. *Downsampled_test_set : precision = 0.88, recall = 0.31* "
      ]
    }
  ],
  "metadata": {
    "colab": {
      "collapsed_sections": [
        "GJ7Iuah96lAS",
        "fVNxZMqTRnJ2",
        "50rbNhc6Rum7",
        "yUyYpsGnSC31",
        "DCo9PomCDuZR",
        "PbDt0JJn55hq",
        "NzgGcJLA-nmX",
        "rPJ9-6_--uWy"
      ],
      "provenance": []
    },
    "kernelspec": {
      "display_name": "Python 3",
      "language": "python",
      "name": "python3"
    },
    "language_info": {
      "codemirror_mode": {
        "name": "ipython",
        "version": 3
      },
      "file_extension": ".py",
      "mimetype": "text/x-python",
      "name": "python",
      "nbconvert_exporter": "python",
      "pygments_lexer": "ipython3",
      "version": "3.9.13"
    },
    "orig_nbformat": 4
  },
  "nbformat": 4,
  "nbformat_minor": 0
}
